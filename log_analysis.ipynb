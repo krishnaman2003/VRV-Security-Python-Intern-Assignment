{
  "nbformat": 4,
  "nbformat_minor": 0,
  "metadata": {
    "colab": {
      "provenance": []
    },
    "kernelspec": {
      "name": "python3",
      "display_name": "Python 3"
    },
    "language_info": {
      "name": "python"
    }
  },
  "cells": [
    {
      "cell_type": "code",
      "execution_count": 39,
      "metadata": {
        "id": "MesrIFabM1CY"
      },
      "outputs": [],
      "source": [
        "import os\n",
        "import re\n",
        "from collections import Counter\n",
        "import csv"
      ]
    },
    {
      "source": [
        "log_file_path = 'sample.log'  # Ensure your log file is in the same directory or provide the full path\n",
        "with open('/content/log_analysis.py', 'r') as file:\n",
        "  for line in file:\n",
        "    line = line.strip()"
      ],
      "cell_type": "code",
      "metadata": {
        "id": "vzOODPLERH96"
      },
      "execution_count": 40,
      "outputs": []
    },
    {
      "cell_type": "code",
      "source": [
        "import re\n",
        "ip_match = re.search(r'^\\d+\\.\\d+\\.\\d+\\.\\d+', line)\n",
        "if ip_match:\n",
        "  ip_address = ip_match.group()\n",
        "  print(f\"Extracted IP: {ip_address}\")"
      ],
      "metadata": {
        "id": "YaoDRA6oTkth"
      },
      "execution_count": 41,
      "outputs": []
    },
    {
      "cell_type": "code",
      "source": [
        "try:\n",
        "  ip_address = re.search(r'^\\d+\\.\\d+\\.\\d+\\.\\d+', line).group()\n",
        "except AttributeError:\n",
        "  print(\"No IP address found in line.\")"
      ],
      "metadata": {
        "colab": {
          "base_uri": "https://localhost:8080/"
        },
        "id": "L9wTsz9TT7P-",
        "outputId": "68968890-5422-4e62-be93-1e87cae4e744"
      },
      "execution_count": 42,
      "outputs": [
        {
          "output_type": "stream",
          "name": "stdout",
          "text": [
            "No IP address found in line.\n"
          ]
        }
      ]
    },
    {
      "cell_type": "code",
      "source": [
        "import re\n",
        "from collections import Counter\n",
        "def extract_ip_addresses(line):\n",
        "  ip_match = re.search(r'^\\d+\\.\\d+\\.\\d+\\.\\d+', line)\n",
        "  if ip_match:\n",
        "    return ip_match.group()\n",
        "  return None"
      ],
      "metadata": {
        "id": "DRUuq_G8UK81"
      },
      "execution_count": 43,
      "outputs": []
    },
    {
      "cell_type": "code",
      "source": [
        "def count_ip_requests(log_file_path):\n",
        "  ip_counter = Counter()\n",
        "  with open(log_file_path, 'r') as file:\n",
        "    for line in file:\n",
        "      ip_address = extract_ip_addresses(line)\n",
        "      if ip_address:\n",
        "        ip_counter[ip_address] += 1\n",
        "  return ip_counter"
      ],
      "metadata": {
        "id": "sGu_QbpPV-TA"
      },
      "execution_count": 44,
      "outputs": []
    },
    {
      "cell_type": "code",
      "source": [
        "def display_sorted_ip_counts(ip_counter):\n",
        "  sorted_ips = ip_counter.most_common()\n",
        "  print(\"IP Address Request Counts:\")\n",
        "  for ip, count in sorted_ips:\n",
        "    print(f\"{ip}: {count}\")"
      ],
      "metadata": {
        "id": "lLMPiSJ_WdJK"
      },
      "execution_count": 45,
      "outputs": []
    },
    {
      "cell_type": "code",
      "source": [
        "if __name__ == \"__main__\":\n",
        "  log_file_path = 'sample.log'\n",
        "  ip_counts = count_ip_requests(log_file_path)\n",
        "  display_sorted_ip_counts(ip_counts)"
      ],
      "metadata": {
        "colab": {
          "base_uri": "https://localhost:8080/"
        },
        "id": "tKFIU2uaW3kl",
        "outputId": "035c28a5-9edd-44ad-d949-380eb91744bf"
      },
      "execution_count": 46,
      "outputs": [
        {
          "output_type": "stream",
          "name": "stdout",
          "text": [
            "IP Address Request Counts:\n",
            "203.0.113.5: 8\n",
            "198.51.100.23: 8\n",
            "192.168.1.1: 7\n",
            "10.0.0.2: 6\n",
            "192.168.1.100: 5\n"
          ]
        }
      ]
    },
    {
      "cell_type": "code",
      "source": [
        "import re\n",
        "from collections import Counter\n",
        "def extract_endpoint(line):\n",
        "  endpoint_match = re.search(r'\\\"[A-Z]+ (.+?) HTTP', line)\n",
        "  if endpoint_match:\n",
        "    return endpoint_match.group(1)\n",
        "  return None\n",
        "def count_endpoint_accesses(log_file_path):\n",
        "  endpoint_counter = Counter()\n",
        "  with open(log_file_path, 'r') as file:\n",
        "    for line in file:\n",
        "      endpoint = extract_endpoint(line)\n",
        "      if endpoint:\n",
        "        endpoint_counter[endpoint] += 1\n",
        "  return endpoint_counter\n",
        "def find_most_frequent_endpoint(endpoint_counter):\n",
        "  most_frequent = endpoint_counter.most_common(1)\n",
        "  if most_frequent:\n",
        "    endpoint, count = most_frequent[0]\n",
        "    print(f\"Most Frequently Accessed Endpoint: {endpoint} (Accessed {count} times)\")\n",
        "if __name__ == \"__main__\":\n",
        "  log_file_path = 'sample.log'\n",
        "  endpoint_counts = count_endpoint_accesses(log_file_path)\n",
        "  find_most_frequent_endpoint(endpoint_counts)"
      ],
      "metadata": {
        "colab": {
          "base_uri": "https://localhost:8080/"
        },
        "id": "8zvOh8cDXEC6",
        "outputId": "01165c85-fb50-4e5c-cb6c-51b7e45de00b"
      },
      "execution_count": 47,
      "outputs": [
        {
          "output_type": "stream",
          "name": "stdout",
          "text": [
            "Most Frequently Accessed Endpoint: /login (Accessed 13 times)\n"
          ]
        }
      ]
    },
    {
      "cell_type": "code",
      "source": [
        "import re\n",
        "from collections import Counter\n",
        "def detect_failed_logins(log_file_path, threshold=10):\n",
        "  failed_login_counter = Counter()\n",
        "  with open(log_file_path, 'r') as file:\n",
        "    for line in file:\n",
        "      if '401' in line and 'Invalid credentials' in line:\n",
        "        ip_match = re.search(r'^\\d+\\.\\d+\\.\\d+\\.\\d+', line)\n",
        "        if ip_match:\n",
        "          ip_address = ip_match.group()\n",
        "          failed_login_counter[ip_address] += 1\n",
        "  return failed_login_counter, threshold\n",
        "def flag_suspicious_ips(failed_login_counter, threshold):\n",
        "  suspicious_ips = {ip: count for ip, count in failed_login_counter.items() if count > threshold}\n",
        "  return suspicious_ips\n",
        "def display_suspicious_activity(suspicious_ips):\n",
        "  print(\"\\nSuspicious Activities:\")\n",
        "  for ip, count in suspicious_ips.items():\n",
        "    print(f\"{ip}: {count} failed attempts\")\n",
        "if __name__ == \"__main__\":\n",
        "  log_file_path = 'sample.log'\n",
        "  failed_login_counter, threshold = detect_failed_logins(log_file_path)\n",
        "  suspicious_ips = flag_suspicious_ips(failed_login_counter, threshold)\n",
        "  display_suspicious_activity(suspicious_ips)"
      ],
      "metadata": {
        "colab": {
          "base_uri": "https://localhost:8080/"
        },
        "id": "4JV6W6PnZIVu",
        "outputId": "130b8c2f-f6e7-48f7-e9ca-00f8fc4ce767"
      },
      "execution_count": 48,
      "outputs": [
        {
          "output_type": "stream",
          "name": "stdout",
          "text": [
            "\n",
            "Suspicious Activities:\n"
          ]
        }
      ]
    },
    {
      "cell_type": "code",
      "source": [
        "def display_results(ip_counts, endpoint_counts, failed_logins):\n",
        "  print(\"IP Request Counts:\")\n",
        "  for ip, count in ip_counts.most_common():\n",
        "    print(f\"{ip}: {count}\")\n",
        "  print(\"\\nMost Accessed Endpoint:\")\n",
        "  most_accessed = endpoint_counts.most_common(1)\n",
        "  if most_accessed:\n",
        "    print(f\"{most_accessed[0][0]} (Accessed {most_accessed[0][1]} times)\")\n",
        "  print(\"\\nSuspicious Activities:\")\n",
        "  for ip, count in failed_logins.items():\n",
        "    if count > 10:\n",
        "      print(f\"{ip}: {count} failed attempts\")"
      ],
      "metadata": {
        "id": "_tmSFAeIaaWY"
      },
      "execution_count": 49,
      "outputs": []
    },
    {
      "cell_type": "code",
      "source": [
        "import re\n",
        "\n",
        "from collections import Counter\n",
        "\n",
        "import csv\n",
        "\n",
        "\n",
        "\n",
        "def parse_log(file_path):\n",
        "\n",
        "    # Initialize counters for IPs, endpoints, and failed logins\n",
        "\n",
        "    ip_counter = Counter()\n",
        "\n",
        "    endpoint_counter = Counter()\n",
        "\n",
        "    failed_login_counter = Counter()\n",
        "\n",
        "\n",
        "\n",
        "    try:\n",
        "\n",
        "        with open(file_path, 'r') as file:\n",
        "\n",
        "            for line in file:\n",
        "\n",
        "                # Extract IP address\n",
        "\n",
        "                ip_match = re.search(r'^\\d+\\.\\d+\\.\\d+\\.\\d+', line)\n",
        "\n",
        "                if ip_match:\n",
        "\n",
        "                    ip = ip_match.group()\n",
        "\n",
        "                    ip_counter[ip] += 1\n",
        "\n",
        "\n",
        "\n",
        "                # Extract endpoint\n",
        "\n",
        "                endpoint_match = re.search(r'\\\"[A-Z]+ (.+?) HTTP', line)\n",
        "\n",
        "                if endpoint_match:\n",
        "\n",
        "                    endpoint = endpoint_match.group(1)\n",
        "\n",
        "                    endpoint_counter[endpoint] += 1\n",
        "\n",
        "\n",
        "\n",
        "                # Detect failed logins\n",
        "\n",
        "                if '401' in line and 'Invalid credentials' in line:\n",
        "\n",
        "                    failed_login_counter[ip] += 1\n",
        "\n",
        "    except FileNotFoundError:\n",
        "\n",
        "        print(f\"Error: The file {file_path} was not found.\")\n",
        "\n",
        "    except Exception as e:\n",
        "\n",
        "        print(f\"An error occurred: {e}\")\n",
        "\n",
        "\n",
        "\n",
        "    return ip_counter, endpoint_counter, failed_login_counter\n",
        "\n",
        "\n",
        "\n",
        "def write_to_csv(ip_counts, endpoint_counts, failed_logins, output_file):\n",
        "\n",
        "    with open(output_file, 'w', newline='') as csvfile:\n",
        "\n",
        "        fieldnames = ['IP Address', 'Request Count', 'Endpoint', 'Endpoint Access Count', 'Failed Login Count']\n",
        "\n",
        "        writer = csv.DictWriter(csvfile, fieldnames=fieldnames)\n",
        "\n",
        "        writer.writeheader()\n",
        "\n",
        "\n",
        "\n",
        "        # Write IP request counts\n",
        "\n",
        "        for ip, count in ip_counts.items():\n",
        "\n",
        "            writer.writerow({'IP Address': ip, 'Request Count': count})\n",
        "\n",
        "\n",
        "\n",
        "        # Write endpoint access counts\n",
        "\n",
        "        for endpoint, count in endpoint_counts.items():\n",
        "\n",
        "            writer.writerow({'Endpoint': endpoint, 'Endpoint Access Count': count})\n",
        "\n",
        "\n",
        "\n",
        "        # Write suspicious activity counts\n",
        "\n",
        "        for ip, count in failed_logins.items():\n",
        "\n",
        "            if count > 10:  # Assuming threshold is 10\n",
        "\n",
        "                writer.writerow({'IP Address': ip, 'Failed Login Count': count})\n",
        "\n",
        "\n",
        "\n",
        "def display_results(ip_counts, endpoint_counts, failed_logins):\n",
        "\n",
        "    print(\"IP Request Counts:\")\n",
        "\n",
        "    for ip, count in ip_counts.most_common():\n",
        "\n",
        "        print(f\"{ip}: {count}\")\n",
        "\n",
        "\n",
        "\n",
        "    print(\"\\nMost Accessed Endpoint:\")\n",
        "\n",
        "    most_accessed = endpoint_counts.most_common(1)\n",
        "\n",
        "    if most_accessed:\n",
        "\n",
        "        print(f\"{most_accessed[0][0]} (Accessed {most_accessed[0][1]} times)\")\n",
        "\n",
        "\n",
        "\n",
        "    print(\"\\nSuspicious Activities:\")\n",
        "\n",
        "    for ip, count in failed_logins.items():\n",
        "\n",
        "        if count > 10:  # Assuming threshold is 10\n",
        "\n",
        "            print(f\"{ip}: {count} failed attempts\")\n",
        "\n",
        "\n",
        "\n",
        "if __name__ == \"__main__\":\n",
        "\n",
        "    log_file_path = 'sample.log'\n",
        "\n",
        "    output_csv = 'log_analysis_results.csv'\n",
        "\n",
        "\n",
        "\n",
        "    # Ensure 'parse_log' function returns the expected values\n",
        "\n",
        "    ip_counts, endpoint_counts, failed_logins = parse_log(log_file_path)\n",
        "\n",
        "    display_results(ip_counts, endpoint_counts, failed_logins)\n",
        "\n",
        "    write_to_csv(ip_counts, endpoint_counts, failed_logins, output_csv)"
      ],
      "metadata": {
        "colab": {
          "base_uri": "https://localhost:8080/"
        },
        "id": "fJNUnMtzbf1l",
        "outputId": "c7595582-3210-438c-ff0b-0028f745486c"
      },
      "execution_count": 50,
      "outputs": [
        {
          "output_type": "stream",
          "name": "stdout",
          "text": [
            "IP Request Counts:\n",
            "203.0.113.5: 8\n",
            "198.51.100.23: 8\n",
            "192.168.1.1: 7\n",
            "10.0.0.2: 6\n",
            "192.168.1.100: 5\n",
            "\n",
            "Most Accessed Endpoint:\n",
            "/login (Accessed 13 times)\n",
            "\n",
            "Suspicious Activities:\n"
          ]
        }
      ]
    },
    {
      "source": [
        "import re\n",
        "from collections import Counter\n",
        "\n",
        "def extract_ip_addresses(line):\n",
        "  ip_match = re.search(r'^\\d+\\.\\d+\\.\\d+\\.\\d+', line)\n",
        "  if ip_match:\n",
        "    return ip_match.group()\n",
        "  return None\n",
        "\n",
        "def extract_endpoint(line):\n",
        "  endpoint_match = re.search(r'\\\"[A-Z]+ (.+?) HTTP', line)\n",
        "  if endpoint_match:\n",
        "    return endpoint_match.group(1)\n",
        "  return None\n",
        "\n",
        "def parse_log(log_file_path):\n",
        "  ip_counter = Counter()\n",
        "  endpoint_counter = Counter()\n",
        "  failed_login_counter = Counter()\n",
        "\n",
        "  with open(log_file_path, 'r') as file:\n",
        "    for line in file:\n",
        "      # Extract IP address\n",
        "      ip_address = extract_ip_addresses(line)\n",
        "      if ip_address:\n",
        "        ip_counter[ip_address] += 1\n",
        "\n",
        "      # Extract endpoint\n",
        "      endpoint = extract_endpoint(line)\n",
        "      if endpoint:\n",
        "        endpoint_counter[endpoint] += 1\n",
        "\n",
        "      # Detect failed login attempts\n",
        "      if '401' in line and 'Invalid credentials' in line:\n",
        "        ip_match = re.search(r'^\\d+\\.\\d+\\.\\d+\\.\\d+', line)\n",
        "        if ip_match:\n",
        "          failed_login_counter[ip_match.group()] += 1\n",
        "\n",
        "  return ip_counter, endpoint_counter, failed_login_counter"
      ],
      "cell_type": "code",
      "metadata": {
        "id": "nrdtgM-ld4E2"
      },
      "execution_count": 51,
      "outputs": []
    },
    {
      "cell_type": "code",
      "source": [
        "from google.colab import drive\n",
        "drive.mount('/content/drive')"
      ],
      "metadata": {
        "colab": {
          "base_uri": "https://localhost:8080/"
        },
        "id": "vHmuCcXOp_PA",
        "outputId": "e535946c-fb2c-4ff4-d466-a190db113fe5"
      },
      "execution_count": 52,
      "outputs": [
        {
          "output_type": "stream",
          "name": "stdout",
          "text": [
            "Drive already mounted at /content/drive; to attempt to forcibly remount, call drive.mount(\"/content/drive\", force_remount=True).\n"
          ]
        }
      ]
    },
    {
      "cell_type": "code",
      "source": [
        "def parse_log(file_path):\n",
        "  pass\n",
        "def count_requests(log_data):\n",
        "  pass\n",
        "def find_most_accessed(log_data):\n",
        "  pass\n",
        "def write_to_csv(data, output_file):\n",
        "  pass\n",
        "def parse_log(file_path):\n",
        "  with open(file_path, 'r') as file:\n",
        "    pass\n",
        "ip_address_counts = Counter()\n",
        "endpoint_access_counts = Counter()\n",
        "suspicious_login_attempts = Counter()\n",
        "from collections import Counter\n",
        "def count_ip_requests(log_lines):\n",
        "  ip_counter = Counter()\n",
        "  for line in log_lines:\n",
        "    ip_address = extract_ip_from_line(line)\n",
        "    if ip_address:\n",
        "      ip_counter[ip_address] += 1\n",
        "      return ip_counter"
      ],
      "metadata": {
        "id": "3dU43FdAeDrk"
      },
      "execution_count": 53,
      "outputs": []
    },
    {
      "source": [
        "import re\n",
        "\n",
        "def extract_ip_from_line(line):\n",
        "    ip_match = re.search(r'^\\d{1,3}\\.\\d{1,3}\\.\\d{1,3}\\.\\d{1,3}', line)  # Improved regex\n",
        "    if ip_match:\n",
        "        return ip_match.group(0)\n",
        "    return None"
      ],
      "cell_type": "code",
      "metadata": {
        "id": "rofwOzFogN9X"
      },
      "execution_count": 54,
      "outputs": []
    },
    {
      "cell_type": "code",
      "source": [
        "import re\n",
        "\n",
        "from collections import Counter\n",
        "\n",
        "import csv\n",
        "\n",
        "\n",
        "\n",
        "def parse_log(file_path):\n",
        "\n",
        "    ip_counter = Counter()\n",
        "\n",
        "    endpoint_counter = Counter()\n",
        "\n",
        "    failed_login_counter = Counter()\n",
        "\n",
        "\n",
        "\n",
        "    try:\n",
        "\n",
        "        with open(file_path, 'r') as file:\n",
        "\n",
        "            for line in file:\n",
        "\n",
        "                # Extract IP address\n",
        "\n",
        "                ip_match = re.search(r'^\\d+\\.\\d+\\.\\d+\\.\\d+', line)\n",
        "\n",
        "                if ip_match:\n",
        "\n",
        "                    ip = ip_match.group()\n",
        "\n",
        "                    ip_counter[ip] += 1\n",
        "\n",
        "\n",
        "\n",
        "                # Extract endpoint\n",
        "\n",
        "                endpoint_match = re.search(r'\\\"[A-Z]+ (.+?) HTTP', line)\n",
        "\n",
        "                if endpoint_match:\n",
        "\n",
        "                    endpoint = endpoint_match.group(1)\n",
        "\n",
        "                    endpoint_counter[endpoint] += 1\n",
        "\n",
        "\n",
        "\n",
        "                # Detect failed logins\n",
        "\n",
        "                if '401' in line and 'Invalid credentials' in line:\n",
        "\n",
        "                    failed_login_counter[ip] += 1\n",
        "\n",
        "    except FileNotFoundError:\n",
        "\n",
        "        print(f\"Error: The file {file_path} was not found.\")\n",
        "\n",
        "    except Exception as e:\n",
        "\n",
        "        print(f\"An error occurred: {e}\")\n",
        "\n",
        "\n",
        "\n",
        "    return ip_counter, endpoint_counter, failed_login_counter\n",
        "\n",
        "\n",
        "\n",
        "def write_to_csv(ip_counts, endpoint_counts, failed_logins, output_file):\n",
        "\n",
        "    with open(output_file, 'w', newline='') as csvfile:\n",
        "\n",
        "        fieldnames = ['IP Address', 'Request Count', 'Endpoint', 'Endpoint Access Count', 'Failed Login Count']\n",
        "\n",
        "        writer = csv.DictWriter(csvfile, fieldnames=fieldnames)\n",
        "\n",
        "        writer.writeheader()\n",
        "\n",
        "\n",
        "\n",
        "        for ip, count in ip_counts.items():\n",
        "\n",
        "            writer.writerow({'IP Address': ip, 'Request Count': count})\n",
        "\n",
        "\n",
        "\n",
        "        for endpoint, count in endpoint_counts.items():\n",
        "\n",
        "            writer.writerow({'Endpoint': endpoint, 'Endpoint Access Count': count})\n",
        "\n",
        "\n",
        "\n",
        "        for ip, count in failed_logins.items():\n",
        "\n",
        "            if count > 10:\n",
        "\n",
        "                writer.writerow({'IP Address': ip, 'Failed Login Count': count})\n",
        "\n",
        "\n",
        "\n",
        "def display_results(ip_counts, endpoint_counts, failed_logins):\n",
        "\n",
        "    print(\"IP Request Counts:\")\n",
        "\n",
        "    for ip, count in ip_counts.most_common():\n",
        "\n",
        "        print(f\"{ip}: {count}\")\n",
        "\n",
        "\n",
        "\n",
        "    print(\"\\nMost Accessed Endpoint:\")\n",
        "\n",
        "    most_accessed = endpoint_counts.most_common(1)\n",
        "\n",
        "    if most_accessed:\n",
        "\n",
        "        print(f\"{most_accessed[0][0]} (Accessed {most_accessed[0][1]} times)\")\n",
        "\n",
        "\n",
        "\n",
        "    print(\"\\nSuspicious Activities:\")\n",
        "\n",
        "    for ip, count in failed_logins.items():\n",
        "\n",
        "        if count > 10:\n",
        "\n",
        "            print(f\"{ip}: {count} failed attempts\")\n",
        "\n",
        "\n",
        "\n",
        "if __name__ == \"__main__\":\n",
        "\n",
        "    # Ensure the file path points to the correct location of your log file\n",
        "\n",
        "    log_file_path = 'sample.log'  # Adjust path if needed\n",
        "\n",
        "    output_csv = 'log_analysis_results.csv'\n",
        "\n",
        "\n",
        "\n",
        "    ip_counts, endpoint_counts, failed_logins = parse_log(log_file_path)\n",
        "\n",
        "    display_results(ip_counts, endpoint_counts, failed_logins)\n",
        "\n",
        "    write_to_csv(ip_counts, endpoint_counts, failed_logins, output_csv)"
      ],
      "metadata": {
        "colab": {
          "base_uri": "https://localhost:8080/"
        },
        "id": "CbopnKbBw3yu",
        "outputId": "05b3dc50-32a2-4a51-acd4-1b89a0a38071"
      },
      "execution_count": 55,
      "outputs": [
        {
          "output_type": "stream",
          "name": "stdout",
          "text": [
            "IP Request Counts:\n",
            "203.0.113.5: 8\n",
            "198.51.100.23: 8\n",
            "192.168.1.1: 7\n",
            "10.0.0.2: 6\n",
            "192.168.1.100: 5\n",
            "\n",
            "Most Accessed Endpoint:\n",
            "/login (Accessed 13 times)\n",
            "\n",
            "Suspicious Activities:\n"
          ]
        }
      ]
    }
  ]
}